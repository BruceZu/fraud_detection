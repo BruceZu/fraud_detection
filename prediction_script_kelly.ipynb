{
 "cells": [
  {
   "cell_type": "code",
   "execution_count": null,
   "metadata": {
    "collapsed": true
   },
   "outputs": [],
   "source": [
    "data = pd.read_json('/files/data.json')\n",
    "test_script_examples = "
   ]
  },
  {
   "cell_type": "code",
   "execution_count": null,
   "metadata": {
    "collapsed": true
   },
   "outputs": [],
   "source": [
    "def get_data(test_script_examples):\n",
    "    \"\"\"Load raw data from a file and return training data and responses.\n",
    "\n",
    "    Parameters\n",
    "    ----------\n",
    "    filename: The path to a json/csv file containing the raw text data and response.\n",
    "\n",
    "    Returns\n",
    "    -------\n",
    "    X:\n",
    "    y:\n",
    "    \"\"\"\n",
    "    data = pd.read_json(test_script_examples)\n",
    "    X_train, X_test, y_train, y_test = train_test_split(X, y, test_size=0.3)\n",
    "    return X_train, y_train"
   ]
  },
  {
   "cell_type": "code",
   "execution_count": null,
   "metadata": {
    "collapsed": true
   },
   "outputs": [],
   "source": [
    "def predict(test_script_examples):\n",
    "    X, y = get_data(test_script_examples)\n",
    "    with open('data/model.pkl') as f:\n",
    "        model = pickle.load(f)\n",
    "    predict_proba = model.predict_proba(X)\n",
    "    return str(predict_proba)"
   ]
  }
 ],
 "metadata": {
  "kernelspec": {
   "display_name": "Python [conda root]",
   "language": "python",
   "name": "conda-root-py"
  },
  "language_info": {
   "codemirror_mode": {
    "name": "ipython",
    "version": 2
   },
   "file_extension": ".py",
   "mimetype": "text/x-python",
   "name": "python",
   "nbconvert_exporter": "python",
   "pygments_lexer": "ipython2",
   "version": "2.7.12"
  }
 },
 "nbformat": 4,
 "nbformat_minor": 2
}
